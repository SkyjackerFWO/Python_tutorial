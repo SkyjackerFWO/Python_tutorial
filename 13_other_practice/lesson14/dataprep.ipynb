{
 "cells": [
  {
   "cell_type": "code",
   "execution_count": 1,
   "metadata": {},
   "outputs": [],
   "source": [
    "import pandas as pd\n",
    "import numpy as np\n",
    "from pathlib import Path"
   ]
  },
  {
   "cell_type": "code",
   "execution_count": 2,
   "metadata": {},
   "outputs": [
    {
     "data": {
      "text/plain": [
       "'O\\twhat\\nO\\tmovies\\nO\\tstar\\nB-ACTOR\\tbruce\\nI-ACTOR\\twillis\\n\\nO\\tshow\\nO\\tme\\nO\\tfilms\\nO\\twith\\nB-ACTOR\\tdrew\\nI-ACTOR'"
      ]
     },
     "execution_count": 2,
     "metadata": {},
     "output_type": "execute_result"
    }
   ],
   "source": [
    "p = Path('engtrain.bio')\n",
    "raw = p.read_text().strip()\n",
    "raw[0:100]"
   ]
  },
  {
   "cell_type": "code",
   "execution_count": 3,
   "metadata": {},
   "outputs": [
    {
     "name": "stdout",
     "output_type": "stream",
     "text": [
      "engtrain.bio 9774\n",
      "engtest.bio 2442\n"
     ]
    }
   ],
   "source": [
    "import re\n",
    "\n",
    "for p in Path('engtrain.bio'), Path('engtest.bio'):\n",
    "    raw = p.read_text().strip()\n",
    "    rx = r'\\n\\n'\n",
    "    \n",
    "    breaks = re.findall(rx, raw)\n",
    "    print(p, len(breaks))"
   ]
  },
  {
   "cell_type": "code",
   "execution_count": 4,
   "metadata": {},
   "outputs": [],
   "source": [
    "def read_bio_files(filepath):\n",
    "    text = Path(filepath).read_text().strip()\n",
    "    each_doc = re.split(r'\\n\\t?\\n', text)\n",
    "    \n",
    "    tokenized_docs = []\n",
    "    labels = []\n",
    "    \n",
    "    for doc in each_doc:\n",
    "        tokens = []\n",
    "        tags = []\n",
    "        for line in doc.split('\\n'):\n",
    "            tag, word = line.split(\"\\t\")\n",
    "            tokens.append(word)\n",
    "            tags.append(tag)\n",
    "        tokenized_docs.append(tokens)\n",
    "        labels.append(tags)\n",
    "        \n",
    "    \n",
    "    return tokenized_docs, labels"
   ]
  },
  {
   "cell_type": "code",
   "execution_count": 5,
   "metadata": {},
   "outputs": [],
   "source": [
    "train_tokens, train_labels = read_bio_files(\"engtrain.bio\")\n",
    "test_tokens, test_labels = read_bio_files(\"engtest.bio\")"
   ]
  },
  {
   "cell_type": "code",
   "execution_count": 6,
   "metadata": {},
   "outputs": [
    {
     "data": {
      "text/plain": [
       "(9775, 9775, 2443, 2443)"
      ]
     },
     "execution_count": 6,
     "metadata": {},
     "output_type": "execute_result"
    }
   ],
   "source": [
    "len(train_tokens), len(train_labels), len(test_tokens), len(test_labels)"
   ]
  },
  {
   "cell_type": "code",
   "execution_count": 7,
   "metadata": {},
   "outputs": [],
   "source": [
    "dataset = {\n",
    "    \"train_tokens\": train_tokens,\n",
    "    \"train_labels\": train_labels,\n",
    "    \"test_tokens\": test_tokens,\n",
    "    \"test_labels\": test_labels,\n",
    "}"
   ]
  },
  {
   "cell_type": "code",
   "execution_count": 8,
   "metadata": {},
   "outputs": [],
   "source": [
    "import pickle\n",
    "\n",
    "with open(\"mitmovie.pickle\", \"wb\") as handle:\n",
    "    pickle.dump(dataset, handle, protocol=pickle.HIGHEST_PROTOCOL)"
   ]
  }
 ],
 "metadata": {
  "kernelspec": {
   "display_name": "radar",
   "language": "python",
   "name": "python3"
  },
  "language_info": {
   "codemirror_mode": {
    "name": "ipython",
    "version": 3
   },
   "file_extension": ".py",
   "mimetype": "text/x-python",
   "name": "python",
   "nbconvert_exporter": "python",
   "pygments_lexer": "ipython3",
   "version": "3.11.9"
  }
 },
 "nbformat": 4,
 "nbformat_minor": 2
}
