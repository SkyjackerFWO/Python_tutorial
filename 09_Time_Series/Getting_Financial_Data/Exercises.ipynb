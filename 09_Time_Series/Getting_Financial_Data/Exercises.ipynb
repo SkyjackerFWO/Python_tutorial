{
 "cells": [
  {
   "cell_type": "markdown",
   "metadata": {
    "pycharm": {
     "name": "#%% md\n"
    }
   },
   "source": [
    "# Getting Financial Data - Pandas Datareader"
   ]
  },
  {
   "cell_type": "markdown",
   "metadata": {
    "pycharm": {
     "name": "#%% md\n"
    }
   },
   "source": [
    "### Introduction:\n",
    "\n",
    "This time you will get data from a website.\n",
    "\n",
    "\n",
    "### Step 1. Import the necessary libraries"
   ]
  },
  {
   "cell_type": "code",
   "execution_count": 18,
   "metadata": {
    "pycharm": {
     "name": "#%%\n"
    }
   },
   "outputs": [],
   "source": [
    "import numpy as np\n",
    "import pandas as pd\n",
    "import pandas_datareader.data as web\n",
    "\n",
    "from datetime import datetime"
   ]
  },
  {
   "cell_type": "markdown",
   "metadata": {
    "pycharm": {
     "name": "#%% md\n"
    }
   },
   "source": [
    "### Step 2. Create your time range (start and end variables). The start date should be 01/01/2015 and the end should today (whatever your today is)."
   ]
  },
  {
   "cell_type": "code",
   "execution_count": 19,
   "metadata": {
    "pycharm": {
     "name": "#%%\n"
    }
   },
   "outputs": [],
   "source": [
    "start_date = datetime(2015,1,1)\n",
    "end_date = datetime(2024, 6, 1)\n",
    "symbol = \"AAPL\"\n",
    "api_key = \"0VSUZME3SECYTSKJ\"\n"
   ]
  },
  {
   "cell_type": "markdown",
   "metadata": {
    "pycharm": {
     "name": "#%% md\n"
    }
   },
   "source": [
    "### Step 3. Get an API key for one of the APIs that are supported by Pandas Datareader, preferably for AlphaVantage.\n",
    "\n",
    "If you do not have an API key for any of the supported APIs, it is easiest to get one for [AlphaVantage](https://www.alphavantage.co/support/#api-key). (Note that the API key is shown directly after the signup. You do *not* receive it via e-mail.)\n",
    "\n",
    "(For a full list of the APIs that are supported by Pandas Datareader, [see here](https://pydata.github.io/pandas-datareader/readers/index.html). As the APIs are provided by third parties, this list may change.)"
   ]
  },
  {
   "cell_type": "markdown",
   "metadata": {
    "pycharm": {
     "name": "#%% md\n"
    }
   },
   "source": [
    "### Step 4. Use Pandas Datarader to read the daily time series for the Apple stock (ticker symbol AAPL) between 01/01/2015 and today, assign it to df_apple and print it."
   ]
  },
  {
   "cell_type": "code",
   "execution_count": 24,
   "metadata": {
    "pycharm": {
     "name": "#%%\n"
    }
   },
   "outputs": [],
   "source": [
    "apple = web.get_data_alphavantage('AAPL', api_key=api_key, start=start_date, end=end_date)"
   ]
  },
  {
   "cell_type": "markdown",
   "metadata": {
    "pycharm": {
     "name": "#%% md\n"
    }
   },
   "source": [
    "### Step 5. Add a new column \"stock\" to the dataframe and add the ticker symbol"
   ]
  },
  {
   "cell_type": "code",
   "execution_count": 25,
   "metadata": {
    "pycharm": {
     "name": "#%%\n"
    }
   },
   "outputs": [
    {
     "data": {
      "text/html": [
       "<div>\n",
       "<style scoped>\n",
       "    .dataframe tbody tr th:only-of-type {\n",
       "        vertical-align: middle;\n",
       "    }\n",
       "\n",
       "    .dataframe tbody tr th {\n",
       "        vertical-align: top;\n",
       "    }\n",
       "\n",
       "    .dataframe thead th {\n",
       "        text-align: right;\n",
       "    }\n",
       "</style>\n",
       "<table border=\"1\" class=\"dataframe\">\n",
       "  <thead>\n",
       "    <tr style=\"text-align: right;\">\n",
       "      <th></th>\n",
       "      <th>open</th>\n",
       "      <th>high</th>\n",
       "      <th>low</th>\n",
       "      <th>close</th>\n",
       "      <th>volume</th>\n",
       "      <th>stock</th>\n",
       "    </tr>\n",
       "  </thead>\n",
       "  <tbody>\n",
       "    <tr>\n",
       "      <th>2015-01-02</th>\n",
       "      <td>111.39</td>\n",
       "      <td>111.440</td>\n",
       "      <td>107.3500</td>\n",
       "      <td>109.33</td>\n",
       "      <td>53204626</td>\n",
       "      <td>AAPL</td>\n",
       "    </tr>\n",
       "    <tr>\n",
       "      <th>2015-01-05</th>\n",
       "      <td>108.29</td>\n",
       "      <td>108.650</td>\n",
       "      <td>105.4100</td>\n",
       "      <td>106.25</td>\n",
       "      <td>64285491</td>\n",
       "      <td>AAPL</td>\n",
       "    </tr>\n",
       "    <tr>\n",
       "      <th>2015-01-06</th>\n",
       "      <td>106.54</td>\n",
       "      <td>107.430</td>\n",
       "      <td>104.6300</td>\n",
       "      <td>106.26</td>\n",
       "      <td>65797116</td>\n",
       "      <td>AAPL</td>\n",
       "    </tr>\n",
       "    <tr>\n",
       "      <th>2015-01-07</th>\n",
       "      <td>107.20</td>\n",
       "      <td>108.200</td>\n",
       "      <td>106.6950</td>\n",
       "      <td>107.75</td>\n",
       "      <td>40105934</td>\n",
       "      <td>AAPL</td>\n",
       "    </tr>\n",
       "    <tr>\n",
       "      <th>2015-01-08</th>\n",
       "      <td>109.23</td>\n",
       "      <td>112.150</td>\n",
       "      <td>108.7000</td>\n",
       "      <td>111.89</td>\n",
       "      <td>59364547</td>\n",
       "      <td>AAPL</td>\n",
       "    </tr>\n",
       "    <tr>\n",
       "      <th>...</th>\n",
       "      <td>...</td>\n",
       "      <td>...</td>\n",
       "      <td>...</td>\n",
       "      <td>...</td>\n",
       "      <td>...</td>\n",
       "      <td>...</td>\n",
       "    </tr>\n",
       "    <tr>\n",
       "      <th>2024-05-24</th>\n",
       "      <td>188.82</td>\n",
       "      <td>190.580</td>\n",
       "      <td>188.0404</td>\n",
       "      <td>189.98</td>\n",
       "      <td>36326975</td>\n",
       "      <td>AAPL</td>\n",
       "    </tr>\n",
       "    <tr>\n",
       "      <th>2024-05-28</th>\n",
       "      <td>191.51</td>\n",
       "      <td>193.000</td>\n",
       "      <td>189.1000</td>\n",
       "      <td>189.99</td>\n",
       "      <td>52280051</td>\n",
       "      <td>AAPL</td>\n",
       "    </tr>\n",
       "    <tr>\n",
       "      <th>2024-05-29</th>\n",
       "      <td>189.61</td>\n",
       "      <td>192.247</td>\n",
       "      <td>189.5100</td>\n",
       "      <td>190.29</td>\n",
       "      <td>53068016</td>\n",
       "      <td>AAPL</td>\n",
       "    </tr>\n",
       "    <tr>\n",
       "      <th>2024-05-30</th>\n",
       "      <td>190.76</td>\n",
       "      <td>192.180</td>\n",
       "      <td>190.6300</td>\n",
       "      <td>191.29</td>\n",
       "      <td>49947941</td>\n",
       "      <td>AAPL</td>\n",
       "    </tr>\n",
       "    <tr>\n",
       "      <th>2024-05-31</th>\n",
       "      <td>191.44</td>\n",
       "      <td>192.570</td>\n",
       "      <td>189.9100</td>\n",
       "      <td>192.25</td>\n",
       "      <td>75158277</td>\n",
       "      <td>AAPL</td>\n",
       "    </tr>\n",
       "  </tbody>\n",
       "</table>\n",
       "<p>2369 rows × 6 columns</p>\n",
       "</div>"
      ],
      "text/plain": [
       "              open     high       low   close    volume stock\n",
       "2015-01-02  111.39  111.440  107.3500  109.33  53204626  AAPL\n",
       "2015-01-05  108.29  108.650  105.4100  106.25  64285491  AAPL\n",
       "2015-01-06  106.54  107.430  104.6300  106.26  65797116  AAPL\n",
       "2015-01-07  107.20  108.200  106.6950  107.75  40105934  AAPL\n",
       "2015-01-08  109.23  112.150  108.7000  111.89  59364547  AAPL\n",
       "...            ...      ...       ...     ...       ...   ...\n",
       "2024-05-24  188.82  190.580  188.0404  189.98  36326975  AAPL\n",
       "2024-05-28  191.51  193.000  189.1000  189.99  52280051  AAPL\n",
       "2024-05-29  189.61  192.247  189.5100  190.29  53068016  AAPL\n",
       "2024-05-30  190.76  192.180  190.6300  191.29  49947941  AAPL\n",
       "2024-05-31  191.44  192.570  189.9100  192.25  75158277  AAPL\n",
       "\n",
       "[2369 rows x 6 columns]"
      ]
     },
     "execution_count": 25,
     "metadata": {},
     "output_type": "execute_result"
    }
   ],
   "source": [
    "apple['stock'] = 'AAPL'\n",
    "apple"
   ]
  },
  {
   "cell_type": "markdown",
   "metadata": {
    "pycharm": {
     "name": "#%% md\n"
    }
   },
   "source": [
    "### Step 6. Repeat the two previous steps for a few other stocks, always creating a new dataframe: Tesla, IBM and Microsoft. (Ticker symbols TSLA, IBM and MSFT.)"
   ]
  },
  {
   "cell_type": "code",
   "execution_count": 29,
   "metadata": {
    "pycharm": {
     "name": "#%%\n"
    }
   },
   "outputs": [
    {
     "data": {
      "text/html": [
       "<div>\n",
       "<style scoped>\n",
       "    .dataframe tbody tr th:only-of-type {\n",
       "        vertical-align: middle;\n",
       "    }\n",
       "\n",
       "    .dataframe tbody tr th {\n",
       "        vertical-align: top;\n",
       "    }\n",
       "\n",
       "    .dataframe thead th {\n",
       "        text-align: right;\n",
       "    }\n",
       "</style>\n",
       "<table border=\"1\" class=\"dataframe\">\n",
       "  <thead>\n",
       "    <tr style=\"text-align: right;\">\n",
       "      <th></th>\n",
       "      <th>open</th>\n",
       "      <th>high</th>\n",
       "      <th>low</th>\n",
       "      <th>close</th>\n",
       "      <th>volume</th>\n",
       "      <th>stock</th>\n",
       "    </tr>\n",
       "  </thead>\n",
       "  <tbody>\n",
       "    <tr>\n",
       "      <th>2015-01-02</th>\n",
       "      <td>46.66</td>\n",
       "      <td>47.4200</td>\n",
       "      <td>46.54</td>\n",
       "      <td>46.760</td>\n",
       "      <td>27913852</td>\n",
       "      <td>MSFT</td>\n",
       "    </tr>\n",
       "    <tr>\n",
       "      <th>2015-01-05</th>\n",
       "      <td>46.37</td>\n",
       "      <td>46.7300</td>\n",
       "      <td>46.25</td>\n",
       "      <td>46.325</td>\n",
       "      <td>39673865</td>\n",
       "      <td>MSFT</td>\n",
       "    </tr>\n",
       "    <tr>\n",
       "      <th>2015-01-06</th>\n",
       "      <td>46.38</td>\n",
       "      <td>46.7490</td>\n",
       "      <td>45.54</td>\n",
       "      <td>45.650</td>\n",
       "      <td>36447854</td>\n",
       "      <td>MSFT</td>\n",
       "    </tr>\n",
       "    <tr>\n",
       "      <th>2015-01-07</th>\n",
       "      <td>45.98</td>\n",
       "      <td>46.4600</td>\n",
       "      <td>45.49</td>\n",
       "      <td>46.230</td>\n",
       "      <td>29114061</td>\n",
       "      <td>MSFT</td>\n",
       "    </tr>\n",
       "    <tr>\n",
       "      <th>2015-01-08</th>\n",
       "      <td>46.75</td>\n",
       "      <td>47.7499</td>\n",
       "      <td>46.72</td>\n",
       "      <td>47.590</td>\n",
       "      <td>29645202</td>\n",
       "      <td>MSFT</td>\n",
       "    </tr>\n",
       "    <tr>\n",
       "      <th>...</th>\n",
       "      <td>...</td>\n",
       "      <td>...</td>\n",
       "      <td>...</td>\n",
       "      <td>...</td>\n",
       "      <td>...</td>\n",
       "      <td>...</td>\n",
       "    </tr>\n",
       "    <tr>\n",
       "      <th>2024-05-24</th>\n",
       "      <td>427.19</td>\n",
       "      <td>431.0550</td>\n",
       "      <td>424.41</td>\n",
       "      <td>430.160</td>\n",
       "      <td>11855285</td>\n",
       "      <td>MSFT</td>\n",
       "    </tr>\n",
       "    <tr>\n",
       "      <th>2024-05-28</th>\n",
       "      <td>429.63</td>\n",
       "      <td>430.8200</td>\n",
       "      <td>426.60</td>\n",
       "      <td>430.320</td>\n",
       "      <td>15718024</td>\n",
       "      <td>MSFT</td>\n",
       "    </tr>\n",
       "    <tr>\n",
       "      <th>2024-05-29</th>\n",
       "      <td>425.69</td>\n",
       "      <td>430.9400</td>\n",
       "      <td>425.69</td>\n",
       "      <td>429.170</td>\n",
       "      <td>15517130</td>\n",
       "      <td>MSFT</td>\n",
       "    </tr>\n",
       "    <tr>\n",
       "      <th>2024-05-30</th>\n",
       "      <td>424.30</td>\n",
       "      <td>424.3000</td>\n",
       "      <td>414.24</td>\n",
       "      <td>414.670</td>\n",
       "      <td>28424847</td>\n",
       "      <td>MSFT</td>\n",
       "    </tr>\n",
       "    <tr>\n",
       "      <th>2024-05-31</th>\n",
       "      <td>416.75</td>\n",
       "      <td>416.7500</td>\n",
       "      <td>404.51</td>\n",
       "      <td>415.130</td>\n",
       "      <td>47995250</td>\n",
       "      <td>MSFT</td>\n",
       "    </tr>\n",
       "  </tbody>\n",
       "</table>\n",
       "<p>2369 rows × 6 columns</p>\n",
       "</div>"
      ],
      "text/plain": [
       "              open      high     low    close    volume stock\n",
       "2015-01-02   46.66   47.4200   46.54   46.760  27913852  MSFT\n",
       "2015-01-05   46.37   46.7300   46.25   46.325  39673865  MSFT\n",
       "2015-01-06   46.38   46.7490   45.54   45.650  36447854  MSFT\n",
       "2015-01-07   45.98   46.4600   45.49   46.230  29114061  MSFT\n",
       "2015-01-08   46.75   47.7499   46.72   47.590  29645202  MSFT\n",
       "...            ...       ...     ...      ...       ...   ...\n",
       "2024-05-24  427.19  431.0550  424.41  430.160  11855285  MSFT\n",
       "2024-05-28  429.63  430.8200  426.60  430.320  15718024  MSFT\n",
       "2024-05-29  425.69  430.9400  425.69  429.170  15517130  MSFT\n",
       "2024-05-30  424.30  424.3000  414.24  414.670  28424847  MSFT\n",
       "2024-05-31  416.75  416.7500  404.51  415.130  47995250  MSFT\n",
       "\n",
       "[2369 rows x 6 columns]"
      ]
     },
     "execution_count": 29,
     "metadata": {},
     "output_type": "execute_result"
    }
   ],
   "source": [
    "msft = web.get_data_alphavantage('MSFT', api_key=api_key, start=start_date, end=end_date)\n",
    "msft['stock'] = 'MSFT'\n",
    "msft"
   ]
  },
  {
   "cell_type": "code",
   "execution_count": 30,
   "metadata": {},
   "outputs": [
    {
     "data": {
      "text/html": [
       "<div>\n",
       "<style scoped>\n",
       "    .dataframe tbody tr th:only-of-type {\n",
       "        vertical-align: middle;\n",
       "    }\n",
       "\n",
       "    .dataframe tbody tr th {\n",
       "        vertical-align: top;\n",
       "    }\n",
       "\n",
       "    .dataframe thead th {\n",
       "        text-align: right;\n",
       "    }\n",
       "</style>\n",
       "<table border=\"1\" class=\"dataframe\">\n",
       "  <thead>\n",
       "    <tr style=\"text-align: right;\">\n",
       "      <th></th>\n",
       "      <th>open</th>\n",
       "      <th>high</th>\n",
       "      <th>low</th>\n",
       "      <th>close</th>\n",
       "      <th>volume</th>\n",
       "      <th>stock</th>\n",
       "    </tr>\n",
       "  </thead>\n",
       "  <tbody>\n",
       "    <tr>\n",
       "      <th>2015-01-02</th>\n",
       "      <td>222.870</td>\n",
       "      <td>223.2500</td>\n",
       "      <td>213.2600</td>\n",
       "      <td>219.310</td>\n",
       "      <td>4764443</td>\n",
       "      <td>TSLA</td>\n",
       "    </tr>\n",
       "    <tr>\n",
       "      <th>2015-01-05</th>\n",
       "      <td>214.550</td>\n",
       "      <td>216.5000</td>\n",
       "      <td>207.1626</td>\n",
       "      <td>210.090</td>\n",
       "      <td>5368477</td>\n",
       "      <td>TSLA</td>\n",
       "    </tr>\n",
       "    <tr>\n",
       "      <th>2015-01-06</th>\n",
       "      <td>210.060</td>\n",
       "      <td>214.2000</td>\n",
       "      <td>204.2100</td>\n",
       "      <td>211.280</td>\n",
       "      <td>6261936</td>\n",
       "      <td>TSLA</td>\n",
       "    </tr>\n",
       "    <tr>\n",
       "      <th>2015-01-07</th>\n",
       "      <td>213.350</td>\n",
       "      <td>214.7800</td>\n",
       "      <td>209.7800</td>\n",
       "      <td>210.950</td>\n",
       "      <td>2968390</td>\n",
       "      <td>TSLA</td>\n",
       "    </tr>\n",
       "    <tr>\n",
       "      <th>2015-01-08</th>\n",
       "      <td>212.810</td>\n",
       "      <td>213.7999</td>\n",
       "      <td>210.0100</td>\n",
       "      <td>210.615</td>\n",
       "      <td>3442509</td>\n",
       "      <td>TSLA</td>\n",
       "    </tr>\n",
       "    <tr>\n",
       "      <th>...</th>\n",
       "      <td>...</td>\n",
       "      <td>...</td>\n",
       "      <td>...</td>\n",
       "      <td>...</td>\n",
       "      <td>...</td>\n",
       "      <td>...</td>\n",
       "    </tr>\n",
       "    <tr>\n",
       "      <th>2024-05-24</th>\n",
       "      <td>174.835</td>\n",
       "      <td>180.0800</td>\n",
       "      <td>173.7300</td>\n",
       "      <td>179.240</td>\n",
       "      <td>65584478</td>\n",
       "      <td>TSLA</td>\n",
       "    </tr>\n",
       "    <tr>\n",
       "      <th>2024-05-28</th>\n",
       "      <td>176.400</td>\n",
       "      <td>178.2500</td>\n",
       "      <td>173.1600</td>\n",
       "      <td>176.750</td>\n",
       "      <td>59736620</td>\n",
       "      <td>TSLA</td>\n",
       "    </tr>\n",
       "    <tr>\n",
       "      <th>2024-05-29</th>\n",
       "      <td>174.190</td>\n",
       "      <td>178.1500</td>\n",
       "      <td>173.9300</td>\n",
       "      <td>176.190</td>\n",
       "      <td>54782649</td>\n",
       "      <td>TSLA</td>\n",
       "    </tr>\n",
       "    <tr>\n",
       "      <th>2024-05-30</th>\n",
       "      <td>178.575</td>\n",
       "      <td>182.6700</td>\n",
       "      <td>175.3800</td>\n",
       "      <td>178.790</td>\n",
       "      <td>77784755</td>\n",
       "      <td>TSLA</td>\n",
       "    </tr>\n",
       "    <tr>\n",
       "      <th>2024-05-31</th>\n",
       "      <td>178.500</td>\n",
       "      <td>180.3200</td>\n",
       "      <td>173.8200</td>\n",
       "      <td>178.080</td>\n",
       "      <td>67314602</td>\n",
       "      <td>TSLA</td>\n",
       "    </tr>\n",
       "  </tbody>\n",
       "</table>\n",
       "<p>2369 rows × 6 columns</p>\n",
       "</div>"
      ],
      "text/plain": [
       "               open      high       low    close    volume stock\n",
       "2015-01-02  222.870  223.2500  213.2600  219.310   4764443  TSLA\n",
       "2015-01-05  214.550  216.5000  207.1626  210.090   5368477  TSLA\n",
       "2015-01-06  210.060  214.2000  204.2100  211.280   6261936  TSLA\n",
       "2015-01-07  213.350  214.7800  209.7800  210.950   2968390  TSLA\n",
       "2015-01-08  212.810  213.7999  210.0100  210.615   3442509  TSLA\n",
       "...             ...       ...       ...      ...       ...   ...\n",
       "2024-05-24  174.835  180.0800  173.7300  179.240  65584478  TSLA\n",
       "2024-05-28  176.400  178.2500  173.1600  176.750  59736620  TSLA\n",
       "2024-05-29  174.190  178.1500  173.9300  176.190  54782649  TSLA\n",
       "2024-05-30  178.575  182.6700  175.3800  178.790  77784755  TSLA\n",
       "2024-05-31  178.500  180.3200  173.8200  178.080  67314602  TSLA\n",
       "\n",
       "[2369 rows x 6 columns]"
      ]
     },
     "execution_count": 30,
     "metadata": {},
     "output_type": "execute_result"
    }
   ],
   "source": [
    "tsla = web.get_data_alphavantage('TSLA', api_key=api_key, start=start_date, end=end_date)\n",
    "tsla['stock'] = 'TSLA'\n",
    "tsla"
   ]
  },
  {
   "cell_type": "code",
   "execution_count": 31,
   "metadata": {},
   "outputs": [],
   "source": [
    "ibm = web.get_data_alphavantage('IBM', api_key=api_key, start=start_date, end=end_date)\n",
    "ibm['stock'] = 'IBM'\n"
   ]
  },
  {
   "cell_type": "markdown",
   "metadata": {
    "pycharm": {
     "name": "#%% md\n"
    }
   },
   "source": [
    "### Step 7. Combine the four separate dataFrames into one combined dataFrame df that holds the information for all four stocks"
   ]
  },
  {
   "cell_type": "code",
   "execution_count": 35,
   "metadata": {
    "pycharm": {
     "name": "#%%\n"
    }
   },
   "outputs": [
    {
     "data": {
      "text/html": [
       "<div>\n",
       "<style scoped>\n",
       "    .dataframe tbody tr th:only-of-type {\n",
       "        vertical-align: middle;\n",
       "    }\n",
       "\n",
       "    .dataframe tbody tr th {\n",
       "        vertical-align: top;\n",
       "    }\n",
       "\n",
       "    .dataframe thead th {\n",
       "        text-align: right;\n",
       "    }\n",
       "</style>\n",
       "<table border=\"1\" class=\"dataframe\">\n",
       "  <thead>\n",
       "    <tr style=\"text-align: right;\">\n",
       "      <th></th>\n",
       "      <th>open</th>\n",
       "      <th>high</th>\n",
       "      <th>low</th>\n",
       "      <th>close</th>\n",
       "      <th>volume</th>\n",
       "      <th>stock</th>\n",
       "    </tr>\n",
       "  </thead>\n",
       "  <tbody>\n",
       "    <tr>\n",
       "      <th>2015-01-02</th>\n",
       "      <td>111.39</td>\n",
       "      <td>111.44</td>\n",
       "      <td>107.35</td>\n",
       "      <td>109.330</td>\n",
       "      <td>53204626</td>\n",
       "      <td>AAPL</td>\n",
       "    </tr>\n",
       "    <tr>\n",
       "      <th>2015-01-02</th>\n",
       "      <td>46.66</td>\n",
       "      <td>47.42</td>\n",
       "      <td>46.54</td>\n",
       "      <td>46.760</td>\n",
       "      <td>27913852</td>\n",
       "      <td>MSFT</td>\n",
       "    </tr>\n",
       "    <tr>\n",
       "      <th>2015-01-02</th>\n",
       "      <td>161.31</td>\n",
       "      <td>163.31</td>\n",
       "      <td>161.00</td>\n",
       "      <td>162.060</td>\n",
       "      <td>5525341</td>\n",
       "      <td>IBM</td>\n",
       "    </tr>\n",
       "    <tr>\n",
       "      <th>2015-01-02</th>\n",
       "      <td>222.87</td>\n",
       "      <td>223.25</td>\n",
       "      <td>213.26</td>\n",
       "      <td>219.310</td>\n",
       "      <td>4764443</td>\n",
       "      <td>TSLA</td>\n",
       "    </tr>\n",
       "    <tr>\n",
       "      <th>2015-01-05</th>\n",
       "      <td>46.37</td>\n",
       "      <td>46.73</td>\n",
       "      <td>46.25</td>\n",
       "      <td>46.325</td>\n",
       "      <td>39673865</td>\n",
       "      <td>MSFT</td>\n",
       "    </tr>\n",
       "    <tr>\n",
       "      <th>...</th>\n",
       "      <td>...</td>\n",
       "      <td>...</td>\n",
       "      <td>...</td>\n",
       "      <td>...</td>\n",
       "      <td>...</td>\n",
       "      <td>...</td>\n",
       "    </tr>\n",
       "    <tr>\n",
       "      <th>2024-05-30</th>\n",
       "      <td>190.76</td>\n",
       "      <td>192.18</td>\n",
       "      <td>190.63</td>\n",
       "      <td>191.290</td>\n",
       "      <td>49947941</td>\n",
       "      <td>AAPL</td>\n",
       "    </tr>\n",
       "    <tr>\n",
       "      <th>2024-05-31</th>\n",
       "      <td>416.75</td>\n",
       "      <td>416.75</td>\n",
       "      <td>404.51</td>\n",
       "      <td>415.130</td>\n",
       "      <td>47995250</td>\n",
       "      <td>MSFT</td>\n",
       "    </tr>\n",
       "    <tr>\n",
       "      <th>2024-05-31</th>\n",
       "      <td>191.44</td>\n",
       "      <td>192.57</td>\n",
       "      <td>189.91</td>\n",
       "      <td>192.250</td>\n",
       "      <td>75158277</td>\n",
       "      <td>AAPL</td>\n",
       "    </tr>\n",
       "    <tr>\n",
       "      <th>2024-05-31</th>\n",
       "      <td>165.70</td>\n",
       "      <td>166.97</td>\n",
       "      <td>163.84</td>\n",
       "      <td>166.850</td>\n",
       "      <td>4905002</td>\n",
       "      <td>IBM</td>\n",
       "    </tr>\n",
       "    <tr>\n",
       "      <th>2024-05-31</th>\n",
       "      <td>178.50</td>\n",
       "      <td>180.32</td>\n",
       "      <td>173.82</td>\n",
       "      <td>178.080</td>\n",
       "      <td>67314602</td>\n",
       "      <td>TSLA</td>\n",
       "    </tr>\n",
       "  </tbody>\n",
       "</table>\n",
       "<p>9476 rows × 6 columns</p>\n",
       "</div>"
      ],
      "text/plain": [
       "              open    high     low    close    volume stock\n",
       "2015-01-02  111.39  111.44  107.35  109.330  53204626  AAPL\n",
       "2015-01-02   46.66   47.42   46.54   46.760  27913852  MSFT\n",
       "2015-01-02  161.31  163.31  161.00  162.060   5525341   IBM\n",
       "2015-01-02  222.87  223.25  213.26  219.310   4764443  TSLA\n",
       "2015-01-05   46.37   46.73   46.25   46.325  39673865  MSFT\n",
       "...            ...     ...     ...      ...       ...   ...\n",
       "2024-05-30  190.76  192.18  190.63  191.290  49947941  AAPL\n",
       "2024-05-31  416.75  416.75  404.51  415.130  47995250  MSFT\n",
       "2024-05-31  191.44  192.57  189.91  192.250  75158277  AAPL\n",
       "2024-05-31  165.70  166.97  163.84  166.850   4905002   IBM\n",
       "2024-05-31  178.50  180.32  173.82  178.080  67314602  TSLA\n",
       "\n",
       "[9476 rows x 6 columns]"
      ]
     },
     "execution_count": 35,
     "metadata": {},
     "output_type": "execute_result"
    }
   ],
   "source": [
    "df = pd.concat([apple, msft, ibm,tsla])\n",
    "df.sort_index()"
   ]
  },
  {
   "cell_type": "markdown",
   "metadata": {
    "pycharm": {
     "name": "#%% md\n"
    }
   },
   "source": [
    "### Step 8. Shift the stock column into the index (making it a multi-level index consisting of the ticker symbol and the date)."
   ]
  },
  {
   "cell_type": "code",
   "execution_count": 36,
   "metadata": {
    "pycharm": {
     "name": "#%%\n"
    }
   },
   "outputs": [
    {
     "data": {
      "text/html": [
       "<div>\n",
       "<style scoped>\n",
       "    .dataframe tbody tr th:only-of-type {\n",
       "        vertical-align: middle;\n",
       "    }\n",
       "\n",
       "    .dataframe tbody tr th {\n",
       "        vertical-align: top;\n",
       "    }\n",
       "\n",
       "    .dataframe thead th {\n",
       "        text-align: right;\n",
       "    }\n",
       "</style>\n",
       "<table border=\"1\" class=\"dataframe\">\n",
       "  <thead>\n",
       "    <tr style=\"text-align: right;\">\n",
       "      <th></th>\n",
       "      <th></th>\n",
       "      <th>open</th>\n",
       "      <th>high</th>\n",
       "      <th>low</th>\n",
       "      <th>close</th>\n",
       "      <th>volume</th>\n",
       "    </tr>\n",
       "    <tr>\n",
       "      <th>stock</th>\n",
       "      <th></th>\n",
       "      <th></th>\n",
       "      <th></th>\n",
       "      <th></th>\n",
       "      <th></th>\n",
       "      <th></th>\n",
       "    </tr>\n",
       "  </thead>\n",
       "  <tbody>\n",
       "    <tr>\n",
       "      <th rowspan=\"5\" valign=\"top\">AAPL</th>\n",
       "      <th>2015-01-02</th>\n",
       "      <td>111.390</td>\n",
       "      <td>111.44</td>\n",
       "      <td>107.350</td>\n",
       "      <td>109.33</td>\n",
       "      <td>53204626</td>\n",
       "    </tr>\n",
       "    <tr>\n",
       "      <th>2015-01-05</th>\n",
       "      <td>108.290</td>\n",
       "      <td>108.65</td>\n",
       "      <td>105.410</td>\n",
       "      <td>106.25</td>\n",
       "      <td>64285491</td>\n",
       "    </tr>\n",
       "    <tr>\n",
       "      <th>2015-01-06</th>\n",
       "      <td>106.540</td>\n",
       "      <td>107.43</td>\n",
       "      <td>104.630</td>\n",
       "      <td>106.26</td>\n",
       "      <td>65797116</td>\n",
       "    </tr>\n",
       "    <tr>\n",
       "      <th>2015-01-07</th>\n",
       "      <td>107.200</td>\n",
       "      <td>108.20</td>\n",
       "      <td>106.695</td>\n",
       "      <td>107.75</td>\n",
       "      <td>40105934</td>\n",
       "    </tr>\n",
       "    <tr>\n",
       "      <th>2015-01-08</th>\n",
       "      <td>109.230</td>\n",
       "      <td>112.15</td>\n",
       "      <td>108.700</td>\n",
       "      <td>111.89</td>\n",
       "      <td>59364547</td>\n",
       "    </tr>\n",
       "    <tr>\n",
       "      <th>...</th>\n",
       "      <th>...</th>\n",
       "      <td>...</td>\n",
       "      <td>...</td>\n",
       "      <td>...</td>\n",
       "      <td>...</td>\n",
       "      <td>...</td>\n",
       "    </tr>\n",
       "    <tr>\n",
       "      <th rowspan=\"5\" valign=\"top\">TSLA</th>\n",
       "      <th>2024-05-24</th>\n",
       "      <td>174.835</td>\n",
       "      <td>180.08</td>\n",
       "      <td>173.730</td>\n",
       "      <td>179.24</td>\n",
       "      <td>65584478</td>\n",
       "    </tr>\n",
       "    <tr>\n",
       "      <th>2024-05-28</th>\n",
       "      <td>176.400</td>\n",
       "      <td>178.25</td>\n",
       "      <td>173.160</td>\n",
       "      <td>176.75</td>\n",
       "      <td>59736620</td>\n",
       "    </tr>\n",
       "    <tr>\n",
       "      <th>2024-05-29</th>\n",
       "      <td>174.190</td>\n",
       "      <td>178.15</td>\n",
       "      <td>173.930</td>\n",
       "      <td>176.19</td>\n",
       "      <td>54782649</td>\n",
       "    </tr>\n",
       "    <tr>\n",
       "      <th>2024-05-30</th>\n",
       "      <td>178.575</td>\n",
       "      <td>182.67</td>\n",
       "      <td>175.380</td>\n",
       "      <td>178.79</td>\n",
       "      <td>77784755</td>\n",
       "    </tr>\n",
       "    <tr>\n",
       "      <th>2024-05-31</th>\n",
       "      <td>178.500</td>\n",
       "      <td>180.32</td>\n",
       "      <td>173.820</td>\n",
       "      <td>178.08</td>\n",
       "      <td>67314602</td>\n",
       "    </tr>\n",
       "  </tbody>\n",
       "</table>\n",
       "<p>9476 rows × 5 columns</p>\n",
       "</div>"
      ],
      "text/plain": [
       "                     open    high      low   close    volume\n",
       "stock                                                       \n",
       "AAPL  2015-01-02  111.390  111.44  107.350  109.33  53204626\n",
       "      2015-01-05  108.290  108.65  105.410  106.25  64285491\n",
       "      2015-01-06  106.540  107.43  104.630  106.26  65797116\n",
       "      2015-01-07  107.200  108.20  106.695  107.75  40105934\n",
       "      2015-01-08  109.230  112.15  108.700  111.89  59364547\n",
       "...                   ...     ...      ...     ...       ...\n",
       "TSLA  2024-05-24  174.835  180.08  173.730  179.24  65584478\n",
       "      2024-05-28  176.400  178.25  173.160  176.75  59736620\n",
       "      2024-05-29  174.190  178.15  173.930  176.19  54782649\n",
       "      2024-05-30  178.575  182.67  175.380  178.79  77784755\n",
       "      2024-05-31  178.500  180.32  173.820  178.08  67314602\n",
       "\n",
       "[9476 rows x 5 columns]"
      ]
     },
     "execution_count": 36,
     "metadata": {},
     "output_type": "execute_result"
    }
   ],
   "source": [
    "# Giả sử df là DataFrame của bạn\n",
    "df.set_index(['stock', df.index], inplace=True)\n",
    "df"
   ]
  },
  {
   "cell_type": "markdown",
   "metadata": {
    "pycharm": {
     "name": "#%% md\n"
    }
   },
   "source": [
    "### Step 7. Create a dataFrame called vol, with the volume values."
   ]
  },
  {
   "cell_type": "code",
   "execution_count": 38,
   "metadata": {
    "pycharm": {
     "name": "#%%\n"
    }
   },
   "outputs": [
    {
     "data": {
      "text/html": [
       "<div>\n",
       "<style scoped>\n",
       "    .dataframe tbody tr th:only-of-type {\n",
       "        vertical-align: middle;\n",
       "    }\n",
       "\n",
       "    .dataframe tbody tr th {\n",
       "        vertical-align: top;\n",
       "    }\n",
       "\n",
       "    .dataframe thead th {\n",
       "        text-align: right;\n",
       "    }\n",
       "</style>\n",
       "<table border=\"1\" class=\"dataframe\">\n",
       "  <thead>\n",
       "    <tr style=\"text-align: right;\">\n",
       "      <th></th>\n",
       "      <th></th>\n",
       "      <th>volume</th>\n",
       "    </tr>\n",
       "    <tr>\n",
       "      <th>stock</th>\n",
       "      <th></th>\n",
       "      <th></th>\n",
       "    </tr>\n",
       "  </thead>\n",
       "  <tbody>\n",
       "    <tr>\n",
       "      <th rowspan=\"5\" valign=\"top\">AAPL</th>\n",
       "      <th>2015-01-02</th>\n",
       "      <td>53204626</td>\n",
       "    </tr>\n",
       "    <tr>\n",
       "      <th>2015-01-05</th>\n",
       "      <td>64285491</td>\n",
       "    </tr>\n",
       "    <tr>\n",
       "      <th>2015-01-06</th>\n",
       "      <td>65797116</td>\n",
       "    </tr>\n",
       "    <tr>\n",
       "      <th>2015-01-07</th>\n",
       "      <td>40105934</td>\n",
       "    </tr>\n",
       "    <tr>\n",
       "      <th>2015-01-08</th>\n",
       "      <td>59364547</td>\n",
       "    </tr>\n",
       "    <tr>\n",
       "      <th>...</th>\n",
       "      <th>...</th>\n",
       "      <td>...</td>\n",
       "    </tr>\n",
       "    <tr>\n",
       "      <th rowspan=\"5\" valign=\"top\">TSLA</th>\n",
       "      <th>2024-05-24</th>\n",
       "      <td>65584478</td>\n",
       "    </tr>\n",
       "    <tr>\n",
       "      <th>2024-05-28</th>\n",
       "      <td>59736620</td>\n",
       "    </tr>\n",
       "    <tr>\n",
       "      <th>2024-05-29</th>\n",
       "      <td>54782649</td>\n",
       "    </tr>\n",
       "    <tr>\n",
       "      <th>2024-05-30</th>\n",
       "      <td>77784755</td>\n",
       "    </tr>\n",
       "    <tr>\n",
       "      <th>2024-05-31</th>\n",
       "      <td>67314602</td>\n",
       "    </tr>\n",
       "  </tbody>\n",
       "</table>\n",
       "<p>9476 rows × 1 columns</p>\n",
       "</div>"
      ],
      "text/plain": [
       "                    volume\n",
       "stock                     \n",
       "AAPL  2015-01-02  53204626\n",
       "      2015-01-05  64285491\n",
       "      2015-01-06  65797116\n",
       "      2015-01-07  40105934\n",
       "      2015-01-08  59364547\n",
       "...                    ...\n",
       "TSLA  2024-05-24  65584478\n",
       "      2024-05-28  59736620\n",
       "      2024-05-29  54782649\n",
       "      2024-05-30  77784755\n",
       "      2024-05-31  67314602\n",
       "\n",
       "[9476 rows x 1 columns]"
      ]
     },
     "execution_count": 38,
     "metadata": {},
     "output_type": "execute_result"
    }
   ],
   "source": [
    "vol = df[['volume']].copy()\n",
    "vol"
   ]
  },
  {
   "cell_type": "markdown",
   "metadata": {
    "pycharm": {
     "name": "#%% md\n"
    }
   },
   "source": [
    "### Step 8. Aggregate the data of volume to weekly.\n",
    "Hint: Be careful to not sum data from the same week of 2015 and other years."
   ]
  },
  {
   "cell_type": "code",
   "execution_count": 41,
   "metadata": {
    "pycharm": {
     "name": "#%%\n"
    }
   },
   "outputs": [
    {
     "data": {
      "text/plain": [
       "stock\n",
       "AAPL    129553687724\n",
       "IBM      11089218348\n",
       "MSFT     69530274153\n",
       "TSLA     80140339563\n",
       "Name: volume, dtype: int64"
      ]
     },
     "execution_count": 41,
     "metadata": {},
     "output_type": "execute_result"
    }
   ],
   "source": [
    "vol.groupby(\"stock\").volume.sum()"
   ]
  },
  {
   "cell_type": "markdown",
   "metadata": {
    "pycharm": {
     "name": "#%% md\n"
    }
   },
   "source": [
    "### Step 9. Find all the volume traded in the year of 2015"
   ]
  },
  {
   "cell_type": "code",
   "execution_count": 43,
   "metadata": {
    "pycharm": {
     "name": "#%%\n"
    }
   },
   "outputs": [
    {
     "name": "stdout",
     "output_type": "stream",
     "text": [
      "<class 'pandas.core.frame.DataFrame'>\n",
      "Index: 9476 entries, 2015-01-02 to 2024-05-31\n",
      "Data columns (total 2 columns):\n",
      " #   Column  Non-Null Count  Dtype \n",
      "---  ------  --------------  ----- \n",
      " 0   stock   9476 non-null   object\n",
      " 1   volume  9476 non-null   int64 \n",
      "dtypes: int64(1), object(1)\n",
      "memory usage: 222.1+ KB\n"
     ]
    }
   ],
   "source": [
    "vol.info()"
   ]
  },
  {
   "cell_type": "code",
   "execution_count": 49,
   "metadata": {},
   "outputs": [
    {
     "data": {
      "text/plain": [
       "stock\n",
       "AAPL    13064316775\n",
       "IBM      1105545521\n",
       "MSFT     9057582311\n",
       "TSLA     1086708380\n",
       "Name: volume, dtype: int64"
      ]
     },
     "execution_count": 49,
     "metadata": {},
     "output_type": "execute_result"
    }
   ],
   "source": [
    "df_2015 = df[df.index.get_level_values(1).str.startswith('2015')]\n",
    "df_2015.groupby(\"stock\").volume.sum()"
   ]
  }
 ],
 "metadata": {
  "kernelspec": {
   "display_name": "Python 3",
   "language": "python",
   "name": "python3"
  },
  "language_info": {
   "codemirror_mode": {
    "name": "ipython",
    "version": 3
   },
   "file_extension": ".py",
   "mimetype": "text/x-python",
   "name": "python",
   "nbconvert_exporter": "python",
   "pygments_lexer": "ipython3",
   "version": "3.10.14"
  }
 },
 "nbformat": 4,
 "nbformat_minor": 1
}
